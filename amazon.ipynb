{
 "cells": [
  {
   "cell_type": "markdown",
   "metadata": {},
   "source": [
    "### NLP with  Spacy"
   ]
  },
  {
<<<<<<< HEAD
=======
   "cell_type": "code",
   "execution_count": 1,
   "metadata": {},
   "outputs": [
    {
     "name": "stdout",
     "output_type": "stream",
     "text": [
      "Channels:\n",
      " - defaults\n",
      "Platform: win-64\n",
      "Collecting package metadata (repodata.json): ...working... done\n",
      "Solving environment: ...working... done\n",
      "\n",
      "# All requested packages already installed.\n",
      "\n"
     ]
    }
   ],
   "source": [
    "! conda install spacy"
   ]
  },
  {
>>>>>>> 454c06687658c38591f7201553dcf08ae7e01c62
   "cell_type": "code",
   "execution_count": 1,
   "metadata": {},
   "outputs": [
    {
     "name": "stdout",
     "output_type": "stream",
     "text": [
      "Channels:\n",
      " - defaults\n",
      "Platform: win-64\n",
      "Collecting package metadata (repodata.json): ...working... done\n",
      "Solving environment: ...working... done\n",
      "\n",
      "# All requested packages already installed.\n",
      "\n"
     ]
    }
   ],
   "source": [
    "! conda install spacy"
   ]
  },
  {
   "cell_type": "code",
   "execution_count": 2,
   "metadata": {},
   "outputs": [],
   "source": [
    "import spacy\n",
    "import pandas as pd\n",
    "import numpy as np\n",
    "from collections import Counter, defaultdict\n",
    "import re\n",
    "from textblob import TextBlob  \n",
    "import matplotlib.pyplot as plt\n",
    "import seaborn as sns"
   ]
  },
  {
   "cell_type": "code",
   "execution_count": 3,
   "metadata": {},
   "outputs": [],
   "source": [
    "import subprocess\n",
    "import sys"
   ]
  },
  {
   "cell_type": "code",
   "execution_count": 4,
   "metadata": {},
   "outputs": [
    {
     "data": {
      "text/plain": [
       "0"
      ]
     },
     "execution_count": 4,
     "metadata": {},
     "output_type": "execute_result"
    }
   ],
   "source": [
    "# Install the English model\n",
    "subprocess.check_call([sys.executable, \"-m\", \"spacy\", \"download\", \"en_core_web_sm\"])\n"
   ]
  },
  {
   "cell_type": "code",
   "execution_count": 5,
   "metadata": {},
   "outputs": [],
   "source": [
    "import subprocess\n",
    "import sys"
   ]
  },
  {
   "cell_type": "code",
   "execution_count": 3,
   "metadata": {},
   "outputs": [
    {
     "data": {
      "text/plain": [
       "0"
      ]
     },
     "execution_count": 3,
     "metadata": {},
     "output_type": "execute_result"
    }
   ],
   "source": [
    "# Install the English model\n",
    "subprocess.check_call([sys.executable, \"-m\", \"spacy\", \"download\", \"en_core_web_sm\"])\n"
   ]
  },
  {
   "cell_type": "code",
   "execution_count": 4,
   "metadata": {},
   "outputs": [
    {
     "name": "stdout",
     "output_type": "stream",
     "text": [
      "✓ spaCy English model loaded successfully\n"
     ]
    }
   ],
   "source": [
    "# Load spaCy model (download with: python -m spacy download en_core_web_sm)\n",
    "try:\n",
    "    nlp = spacy.load(\"en_core_web_sm\")\n",
    "    print(\"✓ spaCy English model loaded successfully\")\n",
    "except OSError:\n",
    "    print(\"Please install spaCy English model: python -m spacy download en_core_web_sm\")\n",
    "    exit()"
   ]
  },
  {
   "cell_type": "code",
<<<<<<< HEAD
   "execution_count": 6,
=======
   "execution_count": 5,
>>>>>>> 454c06687658c38591f7201553dcf08ae7e01c62
   "metadata": {},
   "outputs": [],
   "source": [
    "\n",
    "        \n",
    "class AmazonReviewsNLP:\n",
    "    def __init__(self):\n",
    "        self.nlp = nlp\n",
    "        self.reviews_data = []\n",
    "        self.processed_results = []\n",
    "\n",
    "    def load_data(self, file_path=None, sample_size=1000):\n",
    "        \"\"\"\n",
    "        Load Amazon reviews data. If no file provided, create sample data.\n",
    "        Expected format for real data: __label__1 review_text or __label__2 review_text\n",
    "        \"\"\"\n",
    "        if file_path:\n",
    "            try:\n",
    "                with open(file_path, 'r', encoding='utf-8') as f:\n",
    "                    lines = f.readlines()[:sample_size]\n",
    "                \n",
    "                for line in lines:\n",
    "                    line = line.strip()\n",
    "                    if line.startswith('__label__'):\n",
    "                        parts = line.split(' ', 1)\n",
    "                        if len(parts) == 2:\n",
    "                            label = parts[0].replace('__label__', '')\n",
    "                            text = parts[1]\n",
    "                            self.reviews_data.append({\n",
    "                                'label': int(label),\n",
    "                                'text': text,\n",
    "                                'sentiment': 'positive' if int(label) == 2 else 'negative'\n",
    "                            })\n",
    "                print(f\"✓ Loaded {len(self.reviews_data)} reviews from file\")\n",
    "            except FileNotFoundError:\n",
    "                print(f\"File {file_path} not found. Creating sample data instead.\")\n",
    "                self.create_sample_data()\n",
    "        else:\n",
    "            self.create_sample_data()\n",
    "\n",
    "    def create_sample_data(self):\n",
    "        \"\"\"Create sample Amazon review data for demonstration\"\"\"\n",
    "        sample_reviews = [\n",
    "            {\n",
    "                'label': 2,\n",
    "                'text': \"I absolutely love my new iPhone 15 Pro from Apple! The camera quality is amazing and the battery life is fantastic. Best purchase ever!\",\n",
    "                'sentiment': 'positive'\n",
    "            },\n",
    "            {\n",
    "                'label': 1,\n",
    "                'text': \"The Samsung Galaxy phone I ordered was defective. Poor build quality and the screen cracked after one day. Very disappointed with Amazon's service.\",\n",
    "                'sentiment': 'negative'\n",
    "            },\n",
    "            {\n",
    "                'label': 2,\n",
    "                'text': \"Sony WH-1000XM4 headphones are incredible! The noise cancellation works perfectly and the sound quality from Sony is top-notch.\",\n",
    "                'sentiment': 'positive'\n",
    "            },\n",
    "            {\n",
    "                'label': 1, \n",
    "                'text': \"Nike Air Max shoes were uncomfortable and overpriced. The Adidas version was much better. Would not recommend this Nike product.\",\n",
    "                'sentiment': 'negative'\n",
    "            },\n",
    "            {\n",
    "                'label': 2,\n",
    "                'text': \"The MacBook Pro from Apple exceeded my expectations. Fast processor and great display. Perfect for work and entertainment!\",\n",
    "                'sentiment': 'positive'\n",
    "            },\n",
    "            {\n",
    "                'label': 1,\n",
    "                'text': \"Dell laptop arrived damaged. Customer service was unhelpful and the product quality was poor. Waste of money.\",\n",
    "                'sentiment': 'negative'\n",
    "            },\n",
    "            {\n",
    "                'label': 2,\n",
    "                'text': \"Amazon Echo Dot with Alexa is so convenient! The voice recognition is accurate and it integrates well with my smart home devices.\",\n",
    "                'sentiment': 'positive'\n",
    "            },\n",
    "            {\n",
    "                'label': 1,\n",
    "                'text': \"The Kindle Fire tablet from Amazon was slow and buggy. Battery died quickly and apps crashed frequently.\",\n",
    "                'sentiment': 'negative'\n",
    "            },\n",
    "            {\n",
    "                'label': 2,\n",
    "                'text': \"Love my new Canon EOS camera! The image quality is professional-grade and the autofocus is lightning fast.\",\n",
    "                'sentiment': 'positive'\n",
    "            },\n",
    "            {\n",
    "                'label': 1,\n",
    "                'text': \"Microsoft Surface Pro was overheating constantly. Poor thermal design and customer support was terrible.\",\n",
    "                'sentiment': 'negative'\n",
    "            }\n",
    "        ]\n",
    "        \n",
    "        self.reviews_data = sample_reviews\n",
    "        print(f\"✓ Created {len(self.reviews_data)} sample reviews for demonstration\")\n",
    "\n",
    "    def process_reviews(self):\n",
    "        \"\"\"Process all reviews for NER and sentiment analysis\"\"\"\n",
    "        print(\"Processing reviews...\")\n",
    "        \n",
    "        for i, review in enumerate(self.reviews_data):\n",
    "            text = review['text']\n",
    "            \n",
    "            # Extract entities\n",
    "            entities = self.extract_entities(text)\n",
    "            \n",
    "            # Analyze sentiment\n",
    "            sentiment_analysis = self.analyze_sentiment_rule_based(text)\n",
    "            \n",
    "            # Store results\n",
    "            result = {\n",
    "                'review_id': i,\n",
    "                'original_text': text,\n",
    "                'original_label': review['label'],\n",
    "                'original_sentiment': review['sentiment'],\n",
    "                'extracted_entities': entities,\n",
    "                'sentiment_analysis': sentiment_analysis,\n",
    "                'products_found': entities['products'],\n",
    "                'brands_found': entities['brands']\n",
    "            }\n",
    "            \n",
    "            self.processed_results.append(result)\n",
    "        \n",
    "        print(f\"✓ Processed {len(self.processed_results)} reviews\")\n",
    "\n",
    "    def extract_entities(self, text):\n",
    "        \"\"\"Extract named entities using spaCy NER\"\"\"\n",
    "        doc = self.nlp(text)\n",
    "        entities = {\n",
    "            'products': [],\n",
    "            'brands': [],\n",
    "            'organizations': [],\n",
    "            'money': [],\n",
    "            'all_entities': []\n",
    "        }\n",
    "        \n",
    "        # Common product/brand keywords to help identify entities\n",
    "        product_keywords = ['iphone', 'galaxy', 'macbook', 'kindle', 'echo', 'surface', 'airpods', 'xbox', 'playstation']\n",
    "        brand_keywords = ['apple', 'samsung', 'sony', 'nike', 'adidas', 'dell', 'microsoft', 'amazon', 'google', 'canon']\n",
    "        \n",
    "        for ent in doc.ents:\n",
    "            entity_info = {\n",
    "                'text': ent.text,\n",
    "                'label': ent.label_,\n",
    "                'description': spacy.explain(ent.label_)\n",
    "            }\n",
    "            entities['all_entities'].append(entity_info)\n",
    "            \n",
    "            # Classify entities\n",
    "            if ent.label_ in ['PRODUCT', 'WORK_OF_ART'] or any(keyword in ent.text.lower() for keyword in product_keywords):\n",
    "                entities['products'].append(ent.text)\n",
    "            elif ent.label_ in ['ORG', 'PERSON'] or any(keyword in ent.text.lower() for keyword in brand_keywords):\n",
    "                entities['brands'].append(ent.text)\n",
    "            elif ent.label_ == 'ORG':\n",
    "                entities['organizations'].append(ent.text)\n",
    "            elif ent.label_ == 'MONEY':\n",
    "                entities['money'].append(ent.text)\n",
    "        \n",
    "        # Additional pattern matching for products and brands\n",
    "        text_lower = text.lower()\n",
    "        for keyword in product_keywords:\n",
    "            if keyword in text_lower and keyword.title() not in entities['products']:\n",
    "                entities['products'].append(keyword.title())\n",
    "        \n",
    "        for keyword in brand_keywords:\n",
    "            if keyword in text_lower and keyword.title() not in entities['brands']:\n",
    "                entities['brands'].append(keyword.title())\n",
    "        \n",
    "        return entities\n",
    "    def analyze_sentiment_rule_based(self, text):\n",
    "        \"\"\"Rule-based sentiment analysis\"\"\"\n",
    "        # Positive and negative word lists\n",
    "        positive_words = [\n",
    "            'love', 'amazing', 'fantastic', 'excellent', 'great', 'perfect', 'wonderful',\n",
    "            'awesome', 'brilliant', 'outstanding', 'superb', 'incredible', 'best',\n",
    "            'good', 'nice', 'beautiful', 'impressive', 'satisfied', 'happy', 'pleased'\n",
    "        ]\n",
    "        \n",
    "        negative_words = [\n",
    "            'hate', 'terrible', 'awful', 'horrible', 'bad', 'worst', 'disappointing',\n",
    "            'poor', 'defective', 'broken', 'useless', 'waste', 'overpriced', 'slow',\n",
    "            'buggy', 'crashed', 'damaged', 'unhelpful', 'uncomfortable', 'disappointed'\n",
    "        ]\n",
    "        \n",
    "        # Intensifiers\n",
    "        intensifiers = ['very', 'extremely', 'really', 'absolutely', 'completely', 'totally']\n",
    "        \n",
    "        text_lower = text.lower()\n",
    "        words = text_lower.split()\n",
    "        \n",
    "        positive_score = 0\n",
    "        negative_score = 0\n",
    "        \n",
    "        for i, word in enumerate(words):\n",
    "            # Check for intensifiers\n",
    "            multiplier = 1\n",
    "            if i > 0 and words[i-1] in intensifiers:\n",
    "                multiplier = 2\n",
    "            \n",
    "            if word in positive_words:\n",
    "                positive_score += (1 * multiplier)\n",
    "            elif word in negative_words:\n",
    "                negative_score += (1 * multiplier)\n",
    "        \n",
    "        # Handle negations (simple approach)\n",
    "        negation_words = ['not', 'no', 'never', 'nothing', 'nobody', 'nowhere', \"don't\", \"doesn't\", \"didn't\", \"won't\", \"wouldn't\", \"can't\", \"couldn't\"]\n",
    "        for neg_word in negation_words:\n",
    "            if neg_word in text_lower:\n",
    "                # Flip scores if negation is present\n",
    "                positive_score, negative_score = negative_score * 0.5, positive_score * 0.5\n",
    "                break\n",
    "        \n",
    "        # Determine overall sentiment\n",
    "        if positive_score > negative_score:\n",
    "            sentiment = 'positive'\n",
    "            confidence = positive_score / (positive_score + negative_score + 1)\n",
    "        elif negative_score > positive_score:\n",
    "            sentiment = 'negative'\n",
    "            confidence = negative_score / (positive_score + negative_score + 1)\n",
    "        else:\n",
    "            sentiment = 'neutral'\n",
    "            confidence = 0.5\n",
    "        \n",
    "        return {\n",
    "            'sentiment': sentiment,\n",
    "            'confidence': confidence,\n",
    "            'positive_score': positive_score,\n",
    "            'negative_score': negative_score\n",
    "        }\n",
    "    def display_results(self):\n",
    "        \"\"\"Display analysis results\"\"\"\n",
    "        print(\"\\n\" + \"=\"*80)\n",
    "        print(\"AMAZON REVIEWS NLP ANALYSIS RESULTS\")\n",
    "        print(\"=\"*80)\n",
    "        \n",
    "        # Summary statistics\n",
    "        total_reviews = len(self.processed_results)\n",
    "        correct_predictions = sum(1 for r in self.processed_results \n",
    "                                if r['sentiment_analysis']['sentiment'] == r['original_sentiment'])\n",
    "        accuracy = correct_predictions / total_reviews * 100\n",
    "        \n",
    "        print(f\"\\nSUMMARY STATISTICS:\")\n",
    "        print(f\"Total Reviews Processed: {total_reviews}\")\n",
    "        print(f\"Sentiment Analysis Accuracy: {accuracy:.1f}%\")\n",
    "        all_products = []\n",
    "        all_brands = []\n",
    "        for result in self.processed_results:\n",
    "            all_products.extend(result['products_found'])\n",
    "            all_brands.extend(result['brands_found'])\n",
    "        \n",
    "        product_counts = Counter(all_products)\n",
    "        brand_counts = Counter(all_brands)\n",
    "        \n",
    "        print(f\"\\nENTITY EXTRACTION SUMMARY:\")\n",
    "        print(f\"Unique Products Found: {len(set(all_products))}\")\n",
    "        print(f\"Unique Brands Found: {len(set(all_brands))}\")\n",
    "        print(f\"Most Common Products: {dict(product_counts.most_common(5))}\")\n",
    "        print(f\"Most Common Brands: {dict(brand_counts.most_common(5))}\")\n",
    "        \n",
    "        # Detailed results for each review\n",
    "        print(f\"\\nDETAILED ANALYSIS:\")\n",
    "        print(\"-\" * 80)\n",
    "        \n",
    "        for i, result in enumerate(self.processed_results):\n",
    "            print(f\"\\nReview #{i+1}:\")\n",
    "            print(f\"Text: {result['original_text'][:100]}{'...' if len(result['original_text']) > 100 else ''}\")\n",
    "            print(f\"Original Sentiment: {result['original_sentiment']}\")\n",
    "            print(f\"Predicted Sentiment: {result['sentiment_analysis']['sentiment']} (confidence: {result['sentiment_analysis']['confidence']:.3f})\")\n",
    "            print(f\"Products Found: {result['products_found']}\")\n",
    "            print(f\"Brands Found: {result['brands_found']}\")\n",
    "            \n",
    "            # Show all entities found\n",
    "            if result['extracted_entities']['all_entities']:\n",
    "                print(\"All Named Entities:\")\n",
    "                for entity in result['extracted_entities']['all_entities']:\n",
    "                    print(f\"  • {entity['text']} ({entity['label']}: {entity['description']})\")\n",
    "            \n",
    "            print(\"-\" * 40)\n",
    "\n",
    "    def create_visualizations(self):\n",
    "        \"\"\"Create visualizations of the analysis results\"\"\"\n",
    "        # Sentiment distribution\n",
    "        sentiments = [r['sentiment_analysis']['sentiment'] for r in self.processed_results]\n",
    "        sentiment_counts = Counter(sentiments)\n",
    "        \n",
    "        # Product and brand frequency\n",
    "        all_products = []\n",
    "        all_brands = []\n",
    "        for result in self.processed_results:\n",
    "            all_products.extend(result['products_found'])\n",
    "            all_brands.extend(result['brands_found'])\n",
    "        \n",
    "        product_counts = Counter(all_products)\n",
    "        brand_counts = Counter(all_brands)\n",
    "        \n",
    "        # Create plots\n",
    "        fig, ((ax1, ax2), (ax3, ax4)) = plt.subplots(2, 2, figsize=(15, 10))\n",
    "        \n",
    "        # Sentiment distribution\n",
    "        ax1.pie(sentiment_counts.values(), labels=sentiment_counts.keys(), autopct='%1.1f%%')\n",
    "        ax1.set_title('Sentiment Distribution')\n",
    "          \n",
    "        # Accuracy comparison\n",
    "        original_sentiments = [r['original_sentiment'] for r in self.processed_results]\n",
    "        predicted_sentiments = [r['sentiment_analysis']['sentiment'] for r in self.processed_results]\n",
    "        accuracy_data = {'Original': Counter(original_sentiments), 'Predicted': Counter(predicted_sentiments)}\n",
    "        \n",
    "        x = np.arange(len(set(original_sentiments)))\n",
    "        width = 0.35\n",
    "        ax2.bar(x - width/2, [accuracy_data['Original']['positive'], accuracy_data['Original']['negative']], \n",
    "                width, label='Original', alpha=0.7)\n",
    "        ax2.bar(x + width/2, [accuracy_data['Predicted'].get('positive', 0), accuracy_data['Predicted'].get('negative', 0)], \n",
    "                width, label='Predicted', alpha=0.7)\n",
    "        ax2.set_xlabel('Sentiment')\n",
    "        ax2.set_ylabel('Count')\n",
    "        ax2.set_title('Original vs Predicted Sentiment')\n",
    "        ax2.set_xticks(x)\n",
    "        ax2.set_xticklabels(['Positive', 'Negative'])\n",
    "        ax2.legend()\n",
    "        \n",
    "        # Top products\n",
    "        if product_counts:\n",
    "            top_products = dict(product_counts.most_common(5))\n",
    "            ax3.barh(list(top_products.keys()), list(top_products.values()))\n",
    "            ax3.set_title('Most Mentioned Products')\n",
    "            ax3.set_xlabel('Frequency')\n",
    "        \n",
    "        # Top brands\n",
    "        if brand_counts:\n",
    "            top_brands = dict(brand_counts.most_common(5))\n",
    "            ax4.barh(list(top_brands.keys()), list(top_brands.values()))\n",
    "            ax4.set_title('Most Mentioned Brands')\n",
    "            ax4.set_xlabel('Frequency')\n",
    "        \n",
    "        plt.tight_layout()\n",
    "        plt.show()"
   ]
  },
  {
   "cell_type": "code",
<<<<<<< HEAD
   "execution_count": 7,
=======
   "execution_count": 6,
>>>>>>> 454c06687658c38591f7201553dcf08ae7e01c62
   "metadata": {},
   "outputs": [
    {
     "name": "stdout",
     "output_type": "stream",
     "text": [
      "Amazon Reviews NLP Analysis with spaCy\n",
      "==================================================\n",
      "✓ Created 10 sample reviews for demonstration\n",
      "Processing reviews...\n",
      "✓ Processed 10 reviews\n",
      "\n",
      "================================================================================\n",
      "AMAZON REVIEWS NLP ANALYSIS RESULTS\n",
      "================================================================================\n",
      "\n",
      "SUMMARY STATISTICS:\n",
      "Total Reviews Processed: 10\n",
      "Sentiment Analysis Accuracy: 60.0%\n",
      "\n",
      "ENTITY EXTRACTION SUMMARY:\n",
      "Unique Products Found: 10\n",
      "Unique Brands Found: 12\n",
      "Most Common Products: {'Iphone': 1, 'Galaxy': 1, 'The MacBook Pro': 1, 'Macbook': 1, 'Amazon Echo Dot': 1}\n",
      "Most Common Brands: {'Amazon': 3, 'Apple': 2, 'Sony': 2, 'Nike': 2, 'Samsung': 1}\n",
      "\n",
      "DETAILED ANALYSIS:\n",
      "--------------------------------------------------------------------------------\n",
      "\n",
      "Review #1:\n",
      "Text: I absolutely love my new iPhone 15 Pro from Apple! The camera quality is amazing and the battery lif...\n",
      "Original Sentiment: positive\n",
      "Predicted Sentiment: positive (confidence: 0.800)\n",
      "Products Found: ['Iphone']\n",
      "Brands Found: ['Apple']\n",
      "All Named Entities:\n",
      "  • 15 (CARDINAL: Numerals that do not fall under another type)\n",
      "  • Apple (ORG: Companies, agencies, institutions, etc.)\n",
      "----------------------------------------\n",
      "\n",
      "Review #2:\n",
      "Text: The Samsung Galaxy phone I ordered was defective. Poor build quality and the screen cracked after on...\n",
      "Original Sentiment: negative\n",
      "Predicted Sentiment: negative (confidence: 0.750)\n",
      "Products Found: ['Galaxy']\n",
      "Brands Found: ['Amazon', 'Samsung']\n",
      "All Named Entities:\n",
      "  • one day (DATE: Absolute or relative dates or periods)\n",
      "  • Amazon (ORG: Companies, agencies, institutions, etc.)\n",
      "----------------------------------------\n",
      "\n",
      "Review #3:\n",
      "Text: Sony WH-1000XM4 headphones are incredible! The noise cancellation works perfectly and the sound qual...\n",
      "Original Sentiment: positive\n",
      "Predicted Sentiment: neutral (confidence: 0.500)\n",
      "Products Found: []\n",
      "Brands Found: ['Sony', 'Sony']\n",
      "All Named Entities:\n",
      "  • Sony (ORG: Companies, agencies, institutions, etc.)\n",
      "  • Sony (ORG: Companies, agencies, institutions, etc.)\n",
      "----------------------------------------\n",
      "\n",
      "Review #4:\n",
      "Text: Nike Air Max shoes were uncomfortable and overpriced. The Adidas version was much better. Would not ...\n",
      "Original Sentiment: negative\n",
      "Predicted Sentiment: positive (confidence: 0.333)\n",
      "Products Found: []\n",
      "Brands Found: ['Nike', 'Adidas', 'Nike']\n",
      "All Named Entities:\n",
      "  • Nike (ORG: Companies, agencies, institutions, etc.)\n",
      "  • Adidas (PERSON: People, including fictional)\n",
      "  • Nike (ORG: Companies, agencies, institutions, etc.)\n",
      "----------------------------------------\n",
      "\n",
      "Review #5:\n",
      "Text: The MacBook Pro from Apple exceeded my expectations. Fast processor and great display. Perfect for w...\n",
      "Original Sentiment: positive\n",
      "Predicted Sentiment: positive (confidence: 0.667)\n",
      "Products Found: ['The MacBook Pro', 'Macbook']\n",
      "Brands Found: ['Apple']\n",
      "All Named Entities:\n",
      "  • The MacBook Pro (ORG: Companies, agencies, institutions, etc.)\n",
      "  • Apple (ORG: Companies, agencies, institutions, etc.)\n",
      "----------------------------------------\n",
      "\n",
      "Review #6:\n",
      "Text: Dell laptop arrived damaged. Customer service was unhelpful and the product quality was poor. Waste ...\n",
      "Original Sentiment: negative\n",
      "Predicted Sentiment: negative (confidence: 0.667)\n",
      "Products Found: []\n",
      "Brands Found: ['Dell']\n",
      "----------------------------------------\n",
      "\n",
      "Review #7:\n",
      "Text: Amazon Echo Dot with Alexa is so convenient! The voice recognition is accurate and it integrates wel...\n",
      "Original Sentiment: positive\n",
      "Predicted Sentiment: neutral (confidence: 0.500)\n",
      "Products Found: ['Amazon Echo Dot', 'Echo']\n",
      "Brands Found: ['Alexa', 'Amazon']\n",
      "All Named Entities:\n",
      "  • Amazon Echo Dot (ORG: Companies, agencies, institutions, etc.)\n",
      "  • Alexa (ORG: Companies, agencies, institutions, etc.)\n",
      "----------------------------------------\n",
      "\n",
      "Review #8:\n",
      "Text: The Kindle Fire tablet from Amazon was slow and buggy. Battery died quickly and apps crashed frequen...\n",
      "Original Sentiment: negative\n",
      "Predicted Sentiment: negative (confidence: 0.667)\n",
      "Products Found: ['The Kindle Fire', 'Kindle']\n",
      "Brands Found: ['Amazon', 'apps']\n",
      "All Named Entities:\n",
      "  • The Kindle Fire (LOC: Non-GPE locations, mountain ranges, bodies of water)\n",
      "  • Amazon (ORG: Companies, agencies, institutions, etc.)\n",
      "  • apps (PERSON: People, including fictional)\n",
      "----------------------------------------\n",
      "\n",
      "Review #9:\n",
      "Text: Love my new Canon EOS camera! The image quality is professional-grade and the autofocus is lightning...\n",
      "Original Sentiment: positive\n",
      "Predicted Sentiment: negative (confidence: 0.333)\n",
      "Products Found: []\n",
      "Brands Found: ['EOS', 'Canon']\n",
      "All Named Entities:\n",
      "  • EOS (ORG: Companies, agencies, institutions, etc.)\n",
      "----------------------------------------\n",
      "\n",
      "Review #10:\n",
      "Text: Microsoft Surface Pro was overheating constantly. Poor thermal design and customer support was terri...\n",
      "Original Sentiment: negative\n",
      "Predicted Sentiment: negative (confidence: 0.500)\n",
      "Products Found: ['Surface Pro', 'Surface']\n",
      "Brands Found: ['Microsoft']\n",
      "All Named Entities:\n",
      "  • Microsoft (ORG: Companies, agencies, institutions, etc.)\n",
      "  • Surface Pro (PERSON: People, including fictional)\n",
      "----------------------------------------\n"
     ]
    },
    {
     "data": {
      "image/png": "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",
      "text/plain": [
       "<Figure size 1500x1000 with 4 Axes>"
      ]
     },
     "metadata": {},
     "output_type": "display_data"
    }
   ],
   "source": [
    "# Main execution\n",
    "def main():\n",
    "    print(\"Amazon Reviews NLP Analysis with spaCy\")\n",
    "    print(\"=\" * 50)\n",
    "    \n",
    "    # Initialize analyzer\n",
    "    analyzer = AmazonReviewsNLP()\n",
    "    \n",
    "    # Load data (replace with actual file path if available)\n",
    "    # analyzer.load_data('path/to/amazon_reviews.txt', sample_size=1000)\n",
    "    analyzer.load_data()  # Uses sample data\n",
    "    \n",
    "    # Process reviews\n",
    "    analyzer.process_reviews()\n",
    "    \n",
    "    # Display results\n",
    "    analyzer.display_results()\n",
    "    \n",
    "    # Create visualizations\n",
    "    try:\n",
    "        analyzer.create_visualizations()\n",
    "    except Exception as e:\n",
    "        print(f\"Visualization error: {e}\")\n",
    "        print(\"Make sure matplotlib is installed: pip install matplotlib seaborn\")\n",
    "\n",
    "if __name__ == \"__main__\":\n",
    "    main()\n",
    "\n",
    "# Additional utility functions for extended analysis\n",
    "def analyze_entity_sentiment_correlation(analyzer):\n",
    "    \"\"\"Analyze correlation between specific entities and sentiment\"\"\"\n",
    "    entity_sentiment = defaultdict(list)\n",
    "    \n",
    "    for result in analyzer.processed_results:\n",
    "        sentiment = result['sentiment_analysis']['sentiment']\n",
    "        for product in result['products_found']:\n",
    "            entity_sentiment[product].append(sentiment)\n",
    "        for brand in result['brands_found']:\n",
    "            entity_sentiment[brand].append(sentiment)\n",
    "    \n",
    "    print(\"\\nENTITY-SENTIMENT CORRELATION:\")\n",
    "    print(\"-\" * 40)\n",
    "    for entity, sentiments in entity_sentiment.items():\n",
    "        if len(sentiments) > 1:  # Only show entities with multiple mentions\n",
    "            positive_ratio = sentiments.count('positive') / len(sentiments)\n",
    "            print(f\"{entity}: {positive_ratio:.2f} positive ratio ({len(sentiments)} mentions)\")\n"
   ]
  },
  {
   "cell_type": "code",
<<<<<<< HEAD
   "execution_count": 8,
=======
   "execution_count": 7,
>>>>>>> 454c06687658c38591f7201553dcf08ae7e01c62
   "metadata": {},
   "outputs": [],
   "source": [
    "def export_results_to_csv(analyzer, filename='amazon_reviews_analysis.csv'):\n",
    "    \"\"\"Export analysis results to CSV\"\"\"\n",
    "    data = []\n",
    "    for result in analyzer.processed_results:\n",
    "        data.append({\n",
    "            'review_id': result['review_id'],\n",
    "            'original_text': result['original_text'],\n",
    "            'original_sentiment': result['original_sentiment'],\n",
    "            'predicted_sentiment': result['sentiment_analysis']['sentiment'],\n",
    "            'confidence': result['sentiment_analysis']['confidence'],\n",
    "            'products_found': ', '.join(result['products_found']),\n",
    "            'brands_found': ', '.join(result['brands_found']),\n",
    "            'total_entities': len(result['extracted_entities']['all_entities'])\n",
    "        })\n",
    "    \n",
    "    df = pd.DataFrame(data)\n",
    "    df.to_csv(filename, index=False)\n",
    "    print(f\"✓ Results exported to {filename}\")\n"
   ]
  },
  {
   "cell_type": "code",
<<<<<<< HEAD
   "execution_count": 9,
=======
   "execution_count": 8,
>>>>>>> 454c06687658c38591f7201553dcf08ae7e01c62
   "metadata": {},
   "outputs": [
    {
     "name": "stdout",
     "output_type": "stream",
     "text": [
      "✓ Created 10 sample reviews for demonstration\n",
      "Processing reviews...\n",
      "✓ Processed 10 reviews\n"
     ]
    }
   ],
   "source": [
    "analyzer = AmazonReviewsNLP()\n",
    "analyzer.load_data()\n",
    "analyzer.process_reviews()"
   ]
  },
  {
   "cell_type": "code",
<<<<<<< HEAD
   "execution_count": 10,
=======
   "execution_count": 9,
>>>>>>> 454c06687658c38591f7201553dcf08ae7e01c62
   "metadata": {},
   "outputs": [
    {
     "name": "stdout",
     "output_type": "stream",
     "text": [
      "✓ Results exported to my_results.csv\n"
     ]
    }
   ],
   "source": [
    "export_results_to_csv(analyzer, 'my_results.csv')"
   ]
  },
  {
   "cell_type": "markdown",
   "metadata": {},
   "source": []
  },
  {
   "cell_type": "markdown",
   "metadata": {},
   "source": [
    "###  Machine learning with Scikit Learn\n",
    "\n",
    "Decision Trees"
   ]
  },
  {
   "cell_type": "code",
<<<<<<< HEAD
   "execution_count": 11,
=======
   "execution_count": 10,
>>>>>>> 454c06687658c38591f7201553dcf08ae7e01c62
   "metadata": {},
   "outputs": [],
   "source": [
    "# Import necessary libraries\n",
    "import pandas as pd\n",
    "import numpy as np\n",
    "from sklearn.model_selection import train_test_split\n",
    "from sklearn.tree import DecisionTreeClassifier\n",
    "from sklearn.metrics import accuracy_score, precision_score, recall_score, classification_report\n",
    "from sklearn.preprocessing import LabelEncoder"
   ]
  },
  {
   "cell_type": "code",
<<<<<<< HEAD
   "execution_count": 12,
=======
   "execution_count": 11,
>>>>>>> 454c06687658c38591f7201553dcf08ae7e01c62
   "metadata": {},
   "outputs": [],
   "source": [
    "# Load the dataset\n",
    "from sklearn.datasets import load_iris\n",
    "iris = load_iris()"
   ]
  },
  {
   "cell_type": "code",
<<<<<<< HEAD
   "execution_count": 13,
=======
   "execution_count": 12,
>>>>>>> 454c06687658c38591f7201553dcf08ae7e01c62
   "metadata": {},
   "outputs": [],
   "source": [
    "# Create a DataFrame for better visualization and handling\n",
    "iris_df = pd.DataFrame(data=np.c_[iris['data'], iris['target']],\n",
    "                       columns=iris['feature_names'] + ['target'])"
   ]
  },
  {
   "cell_type": "code",
<<<<<<< HEAD
   "execution_count": 14,
=======
   "execution_count": 13,
>>>>>>> 454c06687658c38591f7201553dcf08ae7e01c62
   "metadata": {},
   "outputs": [
    {
     "name": "stdout",
     "output_type": "stream",
     "text": [
      "=== Dataset Information ===\n",
      "<class 'pandas.core.frame.DataFrame'>\n",
      "RangeIndex: 150 entries, 0 to 149\n",
      "Data columns (total 5 columns):\n",
      " #   Column             Non-Null Count  Dtype  \n",
      "---  ------             --------------  -----  \n",
      " 0   sepal length (cm)  150 non-null    float64\n",
      " 1   sepal width (cm)   150 non-null    float64\n",
      " 2   petal length (cm)  150 non-null    float64\n",
      " 3   petal width (cm)   150 non-null    float64\n",
      " 4   target             150 non-null    float64\n",
      "dtypes: float64(5)\n",
      "memory usage: 6.0 KB\n",
      "None\n",
      "\n",
      "First 5 rows:\n",
      "   sepal length (cm)  sepal width (cm)  petal length (cm)  petal width (cm)  \\\n",
      "0                5.1               3.5                1.4               0.2   \n",
      "1                4.9               3.0                1.4               0.2   \n",
      "2                4.7               3.2                1.3               0.2   \n",
      "3                4.6               3.1                1.5               0.2   \n",
      "4                5.0               3.6                1.4               0.2   \n",
      "\n",
      "   target  \n",
      "0     0.0  \n",
      "1     0.0  \n",
      "2     0.0  \n",
      "3     0.0  \n",
      "4     0.0  \n",
      "=== No of rows and columns ===\n",
      "(150, 5)\n"
     ]
    }
   ],
   "source": [
    "# Display basic information about the dataset\n",
    "print(\"=== Dataset Information ===\")\n",
    "print(iris_df.info())\n",
    "print(\"\\nFirst 5 rows:\")\n",
    "print(iris_df.head())\n",
    "print(\"=== No of rows and columns ===\")\n",
    "print(iris_df.shape)"
   ]
  },
  {
   "cell_type": "code",
<<<<<<< HEAD
   "execution_count": 15,
=======
   "execution_count": 14,
>>>>>>> 454c06687658c38591f7201553dcf08ae7e01c62
   "metadata": {},
   "outputs": [
    {
     "name": "stdout",
     "output_type": "stream",
     "text": [
      "\n",
      "=== Missing Values ===\n",
      "sepal length (cm)    0\n",
      "sepal width (cm)     0\n",
      "petal length (cm)    0\n",
      "petal width (cm)     0\n",
      "target               0\n",
      "dtype: int64\n"
     ]
    }
   ],
   "source": [
    "# Check for missing values\n",
    "print(\"\\n=== Missing Values ===\")\n",
    "print(iris_df.isnull().sum())"
   ]
  },
  {
   "cell_type": "markdown",
   "metadata": {},
   "source": [
    "There are no null values in our dataset."
   ]
  },
  {
   "cell_type": "code",
<<<<<<< HEAD
   "execution_count": 16,
=======
   "execution_count": 15,
>>>>>>> 454c06687658c38591f7201553dcf08ae7e01c62
   "metadata": {},
   "outputs": [],
   "source": [
    "# Separate features (X) and target (y)\n",
    "#separate the features (sepal length, sepal width, petal length, petal width) from the target variable (species).\n",
    "X = iris_df.drop('target', axis=1)\n",
    "y = iris_df['target']"
   ]
  },
  {
   "cell_type": "code",
<<<<<<< HEAD
   "execution_count": 17,
=======
   "execution_count": 16,
>>>>>>> 454c06687658c38591f7201553dcf08ae7e01c62
   "metadata": {},
   "outputs": [
    {
     "name": "stdout",
     "output_type": "stream",
     "text": [
      "\n",
      "Original target values: [0. 1. 2.]\n",
      "Encoded target values: [0 1 2]\n"
     ]
    }
   ],
   "source": [
    "#convert  any string labels to numbers\n",
    "le = LabelEncoder()\n",
    "y_encoded = le.fit_transform(y) \n",
    "print(\"\\nOriginal target values:\", y.unique())\n",
    "print(\"Encoded target values:\", np.unique(y_encoded))\n"
   ]
  },
  {
   "cell_type": "code",
<<<<<<< HEAD
   "execution_count": 18,
=======
   "execution_count": 17,
>>>>>>> 454c06687658c38591f7201553dcf08ae7e01c62
   "metadata": {},
   "outputs": [],
   "source": [
    "# Split the data into training and testing sets (80% train, 20% test)\n",
    "X_train, X_test, y_train, y_test = train_test_split(X, y, test_size=0.2, random_state=42)\n"
   ]
  },
  {
   "cell_type": "code",
<<<<<<< HEAD
   "execution_count": 19,
=======
   "execution_count": 18,
>>>>>>> 454c06687658c38591f7201553dcf08ae7e01c62
   "metadata": {},
   "outputs": [],
   "source": [
    " #Initialize the Decision Tree Classifier\n",
    "dt_classifier = DecisionTreeClassifier(random_state=42)"
   ]
  },
  {
   "cell_type": "code",
<<<<<<< HEAD
   "execution_count": 20,
=======
   "execution_count": 19,
>>>>>>> 454c06687658c38591f7201553dcf08ae7e01c62
   "metadata": {},
   "outputs": [
    {
     "data": {
      "text/html": [
       "<style>#sk-container-id-1 {\n",
       "  /* Definition of color scheme common for light and dark mode */\n",
       "  --sklearn-color-text: #000;\n",
       "  --sklearn-color-text-muted: #666;\n",
       "  --sklearn-color-line: gray;\n",
       "  /* Definition of color scheme for unfitted estimators */\n",
       "  --sklearn-color-unfitted-level-0: #fff5e6;\n",
       "  --sklearn-color-unfitted-level-1: #f6e4d2;\n",
       "  --sklearn-color-unfitted-level-2: #ffe0b3;\n",
       "  --sklearn-color-unfitted-level-3: chocolate;\n",
       "  /* Definition of color scheme for fitted estimators */\n",
       "  --sklearn-color-fitted-level-0: #f0f8ff;\n",
       "  --sklearn-color-fitted-level-1: #d4ebff;\n",
       "  --sklearn-color-fitted-level-2: #b3dbfd;\n",
       "  --sklearn-color-fitted-level-3: cornflowerblue;\n",
       "\n",
       "  /* Specific color for light theme */\n",
       "  --sklearn-color-text-on-default-background: var(--sg-text-color, var(--theme-code-foreground, var(--jp-content-font-color1, black)));\n",
       "  --sklearn-color-background: var(--sg-background-color, var(--theme-background, var(--jp-layout-color0, white)));\n",
       "  --sklearn-color-border-box: var(--sg-text-color, var(--theme-code-foreground, var(--jp-content-font-color1, black)));\n",
       "  --sklearn-color-icon: #696969;\n",
       "\n",
       "  @media (prefers-color-scheme: dark) {\n",
       "    /* Redefinition of color scheme for dark theme */\n",
       "    --sklearn-color-text-on-default-background: var(--sg-text-color, var(--theme-code-foreground, var(--jp-content-font-color1, white)));\n",
       "    --sklearn-color-background: var(--sg-background-color, var(--theme-background, var(--jp-layout-color0, #111)));\n",
       "    --sklearn-color-border-box: var(--sg-text-color, var(--theme-code-foreground, var(--jp-content-font-color1, white)));\n",
       "    --sklearn-color-icon: #878787;\n",
       "  }\n",
       "}\n",
       "\n",
       "#sk-container-id-1 {\n",
       "  color: var(--sklearn-color-text);\n",
       "}\n",
       "\n",
       "#sk-container-id-1 pre {\n",
       "  padding: 0;\n",
       "}\n",
       "\n",
       "#sk-container-id-1 input.sk-hidden--visually {\n",
       "  border: 0;\n",
       "  clip: rect(1px 1px 1px 1px);\n",
       "  clip: rect(1px, 1px, 1px, 1px);\n",
       "  height: 1px;\n",
       "  margin: -1px;\n",
       "  overflow: hidden;\n",
       "  padding: 0;\n",
       "  position: absolute;\n",
       "  width: 1px;\n",
       "}\n",
       "\n",
       "#sk-container-id-1 div.sk-dashed-wrapped {\n",
       "  border: 1px dashed var(--sklearn-color-line);\n",
       "  margin: 0 0.4em 0.5em 0.4em;\n",
       "  box-sizing: border-box;\n",
       "  padding-bottom: 0.4em;\n",
       "  background-color: var(--sklearn-color-background);\n",
       "}\n",
       "\n",
       "#sk-container-id-1 div.sk-container {\n",
       "  /* jupyter's `normalize.less` sets `[hidden] { display: none; }`\n",
       "     but bootstrap.min.css set `[hidden] { display: none !important; }`\n",
       "     so we also need the `!important` here to be able to override the\n",
       "     default hidden behavior on the sphinx rendered scikit-learn.org.\n",
       "     See: https://github.com/scikit-learn/scikit-learn/issues/21755 */\n",
       "  display: inline-block !important;\n",
       "  position: relative;\n",
       "}\n",
       "\n",
       "#sk-container-id-1 div.sk-text-repr-fallback {\n",
       "  display: none;\n",
       "}\n",
       "\n",
       "div.sk-parallel-item,\n",
       "div.sk-serial,\n",
       "div.sk-item {\n",
       "  /* draw centered vertical line to link estimators */\n",
       "  background-image: linear-gradient(var(--sklearn-color-text-on-default-background), var(--sklearn-color-text-on-default-background));\n",
       "  background-size: 2px 100%;\n",
       "  background-repeat: no-repeat;\n",
       "  background-position: center center;\n",
       "}\n",
       "\n",
       "/* Parallel-specific style estimator block */\n",
       "\n",
       "#sk-container-id-1 div.sk-parallel-item::after {\n",
       "  content: \"\";\n",
       "  width: 100%;\n",
       "  border-bottom: 2px solid var(--sklearn-color-text-on-default-background);\n",
       "  flex-grow: 1;\n",
       "}\n",
       "\n",
       "#sk-container-id-1 div.sk-parallel {\n",
       "  display: flex;\n",
       "  align-items: stretch;\n",
       "  justify-content: center;\n",
       "  background-color: var(--sklearn-color-background);\n",
       "  position: relative;\n",
       "}\n",
       "\n",
       "#sk-container-id-1 div.sk-parallel-item {\n",
       "  display: flex;\n",
       "  flex-direction: column;\n",
       "}\n",
       "\n",
       "#sk-container-id-1 div.sk-parallel-item:first-child::after {\n",
       "  align-self: flex-end;\n",
       "  width: 50%;\n",
       "}\n",
       "\n",
       "#sk-container-id-1 div.sk-parallel-item:last-child::after {\n",
       "  align-self: flex-start;\n",
       "  width: 50%;\n",
       "}\n",
       "\n",
       "#sk-container-id-1 div.sk-parallel-item:only-child::after {\n",
       "  width: 0;\n",
       "}\n",
       "\n",
       "/* Serial-specific style estimator block */\n",
       "\n",
       "#sk-container-id-1 div.sk-serial {\n",
       "  display: flex;\n",
       "  flex-direction: column;\n",
       "  align-items: center;\n",
       "  background-color: var(--sklearn-color-background);\n",
       "  padding-right: 1em;\n",
       "  padding-left: 1em;\n",
       "}\n",
       "\n",
       "\n",
       "/* Toggleable style: style used for estimator/Pipeline/ColumnTransformer box that is\n",
       "clickable and can be expanded/collapsed.\n",
       "- Pipeline and ColumnTransformer use this feature and define the default style\n",
       "- Estimators will overwrite some part of the style using the `sk-estimator` class\n",
       "*/\n",
       "\n",
       "/* Pipeline and ColumnTransformer style (default) */\n",
       "\n",
       "#sk-container-id-1 div.sk-toggleable {\n",
       "  /* Default theme specific background. It is overwritten whether we have a\n",
       "  specific estimator or a Pipeline/ColumnTransformer */\n",
       "  background-color: var(--sklearn-color-background);\n",
       "}\n",
       "\n",
       "/* Toggleable label */\n",
       "#sk-container-id-1 label.sk-toggleable__label {\n",
       "  cursor: pointer;\n",
       "  display: flex;\n",
       "  width: 100%;\n",
       "  margin-bottom: 0;\n",
       "  padding: 0.5em;\n",
       "  box-sizing: border-box;\n",
       "  text-align: center;\n",
       "  align-items: start;\n",
       "  justify-content: space-between;\n",
       "  gap: 0.5em;\n",
       "}\n",
       "\n",
       "#sk-container-id-1 label.sk-toggleable__label .caption {\n",
       "  font-size: 0.6rem;\n",
       "  font-weight: lighter;\n",
       "  color: var(--sklearn-color-text-muted);\n",
       "}\n",
       "\n",
       "#sk-container-id-1 label.sk-toggleable__label-arrow:before {\n",
       "  /* Arrow on the left of the label */\n",
       "  content: \"▸\";\n",
       "  float: left;\n",
       "  margin-right: 0.25em;\n",
       "  color: var(--sklearn-color-icon);\n",
       "}\n",
       "\n",
       "#sk-container-id-1 label.sk-toggleable__label-arrow:hover:before {\n",
       "  color: var(--sklearn-color-text);\n",
       "}\n",
       "\n",
       "/* Toggleable content - dropdown */\n",
       "\n",
       "#sk-container-id-1 div.sk-toggleable__content {\n",
       "  max-height: 0;\n",
       "  max-width: 0;\n",
       "  overflow: hidden;\n",
       "  text-align: left;\n",
       "  /* unfitted */\n",
       "  background-color: var(--sklearn-color-unfitted-level-0);\n",
       "}\n",
       "\n",
       "#sk-container-id-1 div.sk-toggleable__content.fitted {\n",
       "  /* fitted */\n",
       "  background-color: var(--sklearn-color-fitted-level-0);\n",
       "}\n",
       "\n",
       "#sk-container-id-1 div.sk-toggleable__content pre {\n",
       "  margin: 0.2em;\n",
       "  border-radius: 0.25em;\n",
       "  color: var(--sklearn-color-text);\n",
       "  /* unfitted */\n",
       "  background-color: var(--sklearn-color-unfitted-level-0);\n",
       "}\n",
       "\n",
       "#sk-container-id-1 div.sk-toggleable__content.fitted pre {\n",
       "  /* unfitted */\n",
       "  background-color: var(--sklearn-color-fitted-level-0);\n",
       "}\n",
       "\n",
       "#sk-container-id-1 input.sk-toggleable__control:checked~div.sk-toggleable__content {\n",
       "  /* Expand drop-down */\n",
       "  max-height: 200px;\n",
       "  max-width: 100%;\n",
       "  overflow: auto;\n",
       "}\n",
       "\n",
       "#sk-container-id-1 input.sk-toggleable__control:checked~label.sk-toggleable__label-arrow:before {\n",
       "  content: \"▾\";\n",
       "}\n",
       "\n",
       "/* Pipeline/ColumnTransformer-specific style */\n",
       "\n",
       "#sk-container-id-1 div.sk-label input.sk-toggleable__control:checked~label.sk-toggleable__label {\n",
       "  color: var(--sklearn-color-text);\n",
       "  background-color: var(--sklearn-color-unfitted-level-2);\n",
       "}\n",
       "\n",
       "#sk-container-id-1 div.sk-label.fitted input.sk-toggleable__control:checked~label.sk-toggleable__label {\n",
       "  background-color: var(--sklearn-color-fitted-level-2);\n",
       "}\n",
       "\n",
       "/* Estimator-specific style */\n",
       "\n",
       "/* Colorize estimator box */\n",
       "#sk-container-id-1 div.sk-estimator input.sk-toggleable__control:checked~label.sk-toggleable__label {\n",
       "  /* unfitted */\n",
       "  background-color: var(--sklearn-color-unfitted-level-2);\n",
       "}\n",
       "\n",
       "#sk-container-id-1 div.sk-estimator.fitted input.sk-toggleable__control:checked~label.sk-toggleable__label {\n",
       "  /* fitted */\n",
       "  background-color: var(--sklearn-color-fitted-level-2);\n",
       "}\n",
       "\n",
       "#sk-container-id-1 div.sk-label label.sk-toggleable__label,\n",
       "#sk-container-id-1 div.sk-label label {\n",
       "  /* The background is the default theme color */\n",
       "  color: var(--sklearn-color-text-on-default-background);\n",
       "}\n",
       "\n",
       "/* On hover, darken the color of the background */\n",
       "#sk-container-id-1 div.sk-label:hover label.sk-toggleable__label {\n",
       "  color: var(--sklearn-color-text);\n",
       "  background-color: var(--sklearn-color-unfitted-level-2);\n",
       "}\n",
       "\n",
       "/* Label box, darken color on hover, fitted */\n",
       "#sk-container-id-1 div.sk-label.fitted:hover label.sk-toggleable__label.fitted {\n",
       "  color: var(--sklearn-color-text);\n",
       "  background-color: var(--sklearn-color-fitted-level-2);\n",
       "}\n",
       "\n",
       "/* Estimator label */\n",
       "\n",
       "#sk-container-id-1 div.sk-label label {\n",
       "  font-family: monospace;\n",
       "  font-weight: bold;\n",
       "  display: inline-block;\n",
       "  line-height: 1.2em;\n",
       "}\n",
       "\n",
       "#sk-container-id-1 div.sk-label-container {\n",
       "  text-align: center;\n",
       "}\n",
       "\n",
       "/* Estimator-specific */\n",
       "#sk-container-id-1 div.sk-estimator {\n",
       "  font-family: monospace;\n",
       "  border: 1px dotted var(--sklearn-color-border-box);\n",
       "  border-radius: 0.25em;\n",
       "  box-sizing: border-box;\n",
       "  margin-bottom: 0.5em;\n",
       "  /* unfitted */\n",
       "  background-color: var(--sklearn-color-unfitted-level-0);\n",
       "}\n",
       "\n",
       "#sk-container-id-1 div.sk-estimator.fitted {\n",
       "  /* fitted */\n",
       "  background-color: var(--sklearn-color-fitted-level-0);\n",
       "}\n",
       "\n",
       "/* on hover */\n",
       "#sk-container-id-1 div.sk-estimator:hover {\n",
       "  /* unfitted */\n",
       "  background-color: var(--sklearn-color-unfitted-level-2);\n",
       "}\n",
       "\n",
       "#sk-container-id-1 div.sk-estimator.fitted:hover {\n",
       "  /* fitted */\n",
       "  background-color: var(--sklearn-color-fitted-level-2);\n",
       "}\n",
       "\n",
       "/* Specification for estimator info (e.g. \"i\" and \"?\") */\n",
       "\n",
       "/* Common style for \"i\" and \"?\" */\n",
       "\n",
       ".sk-estimator-doc-link,\n",
       "a:link.sk-estimator-doc-link,\n",
       "a:visited.sk-estimator-doc-link {\n",
       "  float: right;\n",
       "  font-size: smaller;\n",
       "  line-height: 1em;\n",
       "  font-family: monospace;\n",
       "  background-color: var(--sklearn-color-background);\n",
       "  border-radius: 1em;\n",
       "  height: 1em;\n",
       "  width: 1em;\n",
       "  text-decoration: none !important;\n",
       "  margin-left: 0.5em;\n",
       "  text-align: center;\n",
       "  /* unfitted */\n",
       "  border: var(--sklearn-color-unfitted-level-1) 1pt solid;\n",
       "  color: var(--sklearn-color-unfitted-level-1);\n",
       "}\n",
       "\n",
       ".sk-estimator-doc-link.fitted,\n",
       "a:link.sk-estimator-doc-link.fitted,\n",
       "a:visited.sk-estimator-doc-link.fitted {\n",
       "  /* fitted */\n",
       "  border: var(--sklearn-color-fitted-level-1) 1pt solid;\n",
       "  color: var(--sklearn-color-fitted-level-1);\n",
       "}\n",
       "\n",
       "/* On hover */\n",
       "div.sk-estimator:hover .sk-estimator-doc-link:hover,\n",
       ".sk-estimator-doc-link:hover,\n",
       "div.sk-label-container:hover .sk-estimator-doc-link:hover,\n",
       ".sk-estimator-doc-link:hover {\n",
       "  /* unfitted */\n",
       "  background-color: var(--sklearn-color-unfitted-level-3);\n",
       "  color: var(--sklearn-color-background);\n",
       "  text-decoration: none;\n",
       "}\n",
       "\n",
       "div.sk-estimator.fitted:hover .sk-estimator-doc-link.fitted:hover,\n",
       ".sk-estimator-doc-link.fitted:hover,\n",
       "div.sk-label-container:hover .sk-estimator-doc-link.fitted:hover,\n",
       ".sk-estimator-doc-link.fitted:hover {\n",
       "  /* fitted */\n",
       "  background-color: var(--sklearn-color-fitted-level-3);\n",
       "  color: var(--sklearn-color-background);\n",
       "  text-decoration: none;\n",
       "}\n",
       "\n",
       "/* Span, style for the box shown on hovering the info icon */\n",
       ".sk-estimator-doc-link span {\n",
       "  display: none;\n",
       "  z-index: 9999;\n",
       "  position: relative;\n",
       "  font-weight: normal;\n",
       "  right: .2ex;\n",
       "  padding: .5ex;\n",
       "  margin: .5ex;\n",
       "  width: min-content;\n",
       "  min-width: 20ex;\n",
       "  max-width: 50ex;\n",
       "  color: var(--sklearn-color-text);\n",
       "  box-shadow: 2pt 2pt 4pt #999;\n",
       "  /* unfitted */\n",
       "  background: var(--sklearn-color-unfitted-level-0);\n",
       "  border: .5pt solid var(--sklearn-color-unfitted-level-3);\n",
       "}\n",
       "\n",
       ".sk-estimator-doc-link.fitted span {\n",
       "  /* fitted */\n",
       "  background: var(--sklearn-color-fitted-level-0);\n",
       "  border: var(--sklearn-color-fitted-level-3);\n",
       "}\n",
       "\n",
       ".sk-estimator-doc-link:hover span {\n",
       "  display: block;\n",
       "}\n",
       "\n",
       "/* \"?\"-specific style due to the `<a>` HTML tag */\n",
       "\n",
       "#sk-container-id-1 a.estimator_doc_link {\n",
       "  float: right;\n",
       "  font-size: 1rem;\n",
       "  line-height: 1em;\n",
       "  font-family: monospace;\n",
       "  background-color: var(--sklearn-color-background);\n",
       "  border-radius: 1rem;\n",
       "  height: 1rem;\n",
       "  width: 1rem;\n",
       "  text-decoration: none;\n",
       "  /* unfitted */\n",
       "  color: var(--sklearn-color-unfitted-level-1);\n",
       "  border: var(--sklearn-color-unfitted-level-1) 1pt solid;\n",
       "}\n",
       "\n",
       "#sk-container-id-1 a.estimator_doc_link.fitted {\n",
       "  /* fitted */\n",
       "  border: var(--sklearn-color-fitted-level-1) 1pt solid;\n",
       "  color: var(--sklearn-color-fitted-level-1);\n",
       "}\n",
       "\n",
       "/* On hover */\n",
       "#sk-container-id-1 a.estimator_doc_link:hover {\n",
       "  /* unfitted */\n",
       "  background-color: var(--sklearn-color-unfitted-level-3);\n",
       "  color: var(--sklearn-color-background);\n",
       "  text-decoration: none;\n",
       "}\n",
       "\n",
       "#sk-container-id-1 a.estimator_doc_link.fitted:hover {\n",
       "  /* fitted */\n",
       "  background-color: var(--sklearn-color-fitted-level-3);\n",
       "}\n",
       "</style><div id=\"sk-container-id-1\" class=\"sk-top-container\"><div class=\"sk-text-repr-fallback\"><pre>DecisionTreeClassifier(random_state=42)</pre><b>In a Jupyter environment, please rerun this cell to show the HTML representation or trust the notebook. <br />On GitHub, the HTML representation is unable to render, please try loading this page with nbviewer.org.</b></div><div class=\"sk-container\" hidden><div class=\"sk-item\"><div class=\"sk-estimator fitted sk-toggleable\"><input class=\"sk-toggleable__control sk-hidden--visually\" id=\"sk-estimator-id-1\" type=\"checkbox\" checked><label for=\"sk-estimator-id-1\" class=\"sk-toggleable__label fitted sk-toggleable__label-arrow\"><div><div>DecisionTreeClassifier</div></div><div><a class=\"sk-estimator-doc-link fitted\" rel=\"noreferrer\" target=\"_blank\" href=\"https://scikit-learn.org/1.6/modules/generated/sklearn.tree.DecisionTreeClassifier.html\">?<span>Documentation for DecisionTreeClassifier</span></a><span class=\"sk-estimator-doc-link fitted\">i<span>Fitted</span></span></div></label><div class=\"sk-toggleable__content fitted\"><pre>DecisionTreeClassifier(random_state=42)</pre></div> </div></div></div></div>"
      ],
      "text/plain": [
       "DecisionTreeClassifier(random_state=42)"
      ]
     },
<<<<<<< HEAD
     "execution_count": 20,
=======
     "execution_count": 19,
>>>>>>> 454c06687658c38591f7201553dcf08ae7e01c62
     "metadata": {},
     "output_type": "execute_result"
    }
   ],
   "source": [
    "#  train the decision tree on our training data using the fit() method.\n",
    "dt_classifier.fit(X_train, y_train)"
   ]
  },
  {
   "cell_type": "code",
<<<<<<< HEAD
   "execution_count": 21,
=======
   "execution_count": 20,
>>>>>>> 454c06687658c38591f7201553dcf08ae7e01c62
   "metadata": {},
   "outputs": [],
   "source": [
    "# Make predictions on the test set\n",
    "y_pred = dt_classifier.predict(X_test)"
   ]
  },
  {
   "cell_type": "code",
<<<<<<< HEAD
   "execution_count": 22,
=======
   "execution_count": 21,
>>>>>>> 454c06687658c38591f7201553dcf08ae7e01c62
   "metadata": {},
   "outputs": [],
   "source": [
    "# Evaluate the model\n",
    "accuracy = accuracy_score(y_test, y_pred)\n",
    "# For multiclass classification, we use average parameter\n",
    "precision = precision_score(y_test, y_pred, average='weighted')\n",
    "recall = recall_score(y_test, y_pred, average='weighted')"
   ]
  },
  {
   "cell_type": "code",
<<<<<<< HEAD
   "execution_count": 23,
=======
   "execution_count": 22,
>>>>>>> 454c06687658c38591f7201553dcf08ae7e01c62
   "metadata": {},
   "outputs": [
    {
     "name": "stdout",
     "output_type": "stream",
     "text": [
      "\n",
      "=== Model Evaluation ===\n",
      "Accuracy: 1.0000\n",
      "Precision: 1.0000\n",
      "Recall: 1.0000\n"
     ]
    }
   ],
   "source": [
    "print(\"\\n=== Model Evaluation ===\")\n",
    "print(f\"Accuracy: {accuracy:.4f}\")\n",
    "print(f\"Precision: {precision:.4f}\")\n",
    "print(f\"Recall: {recall:.4f}\")"
   ]
  },
  {
   "cell_type": "code",
<<<<<<< HEAD
   "execution_count": 24,
=======
   "execution_count": 23,
>>>>>>> 454c06687658c38591f7201553dcf08ae7e01c62
   "metadata": {},
   "outputs": [
    {
     "name": "stdout",
     "output_type": "stream",
     "text": [
      "\n",
      "=== Classification Report ===\n",
      "              precision    recall  f1-score   support\n",
      "\n",
      "      setosa       1.00      1.00      1.00        10\n",
      "  versicolor       1.00      1.00      1.00         9\n",
      "   virginica       1.00      1.00      1.00        11\n",
      "\n",
      "    accuracy                           1.00        30\n",
      "   macro avg       1.00      1.00      1.00        30\n",
      "weighted avg       1.00      1.00      1.00        30\n",
      "\n"
     ]
    }
   ],
   "source": [
    "# Detailed classification report\n",
    "print(\"\\n=== Classification Report ===\")\n",
    "print(classification_report(y_test, y_pred, target_names=iris.target_names))\n"
   ]
  },
  {
   "cell_type": "code",
<<<<<<< HEAD
   "execution_count": 25,
=======
   "execution_count": 24,
>>>>>>> 454c06687658c38591f7201553dcf08ae7e01c62
   "metadata": {},
   "outputs": [
    {
     "name": "stdout",
     "output_type": "stream",
     "text": [
      "\n",
      "=== Feature Importance ===\n",
      "sepal length (cm): 0.0000\n",
      "sepal width (cm): 0.0167\n",
      "petal length (cm): 0.9061\n",
      "petal width (cm): 0.0772\n"
     ]
    }
   ],
   "source": [
    "# Feature importance\n",
    "# Determine the most important for the decision tree's predictions.\n",
    "print(\"\\n=== Feature Importance ===\")\n",
    "for name, importance in zip(iris.feature_names, dt_classifier.feature_importances_):\n",
    "    print(f\"{name}: {importance:.4f}\")"
   ]
  },
  {
   "cell_type": "markdown",
   "metadata": {},
   "source": []
  },
  {
   "cell_type": "markdown",
   "metadata": {},
   "source": [
    "### MNIST Handwritten Digit Classification with CNN"
   ]
  },
  {
   "cell_type": "code",
<<<<<<< HEAD
   "execution_count": 26,
=======
   "execution_count": 25,
>>>>>>> 454c06687658c38591f7201553dcf08ae7e01c62
   "metadata": {},
   "outputs": [
    {
     "name": "stdout",
     "output_type": "stream",
     "text": [
      "Python executable: C:\\Users\\priscillah\\anaconda3\\envs\\tf_env\\python.exe\n",
      "Python version: 3.10.13 | packaged by Anaconda, Inc. | (main, Sep 11 2023, 13:15:57) [MSC v.1916 64 bit (AMD64)]\n"
     ]
    }
   ],
   "source": [
    "import sys\n",
    "print(f\"Python executable: {sys.executable}\")\n",
    "print(f\"Python version: {sys.version}\")"
   ]
  },
  {
   "cell_type": "code",
<<<<<<< HEAD
   "execution_count": 27,
=======
   "execution_count": 26,
>>>>>>> 454c06687658c38591f7201553dcf08ae7e01c62
   "metadata": {},
   "outputs": [],
   "source": [
    "import tensorflow as tf\n",
    "from tensorflow import keras\n",
    "from tensorflow.keras import layers\n",
    "import numpy as np\n",
    "import matplotlib.pyplot as plt"
   ]
  },
  {
   "cell_type": "code",
<<<<<<< HEAD
   "execution_count": 28,
=======
   "execution_count": 27,
>>>>>>> 454c06687658c38591f7201553dcf08ae7e01c62
   "metadata": {},
   "outputs": [],
   "source": [
    "# Load MNIST dataset\n",
    "(X_train, y_train), (X_test, y_test) = keras.datasets.mnist.load_data()"
   ]
  },
  {
   "cell_type": "code",
<<<<<<< HEAD
   "execution_count": 29,
=======
   "execution_count": 28,
>>>>>>> 454c06687658c38591f7201553dcf08ae7e01c62
   "metadata": {},
   "outputs": [],
   "source": [
    "# Preprocess the data\n",
    "# Normalize pixel values to [0, 1]\n",
    "X_train = X_train.astype(\"float32\") / 255\n",
    "X_test = X_test.astype(\"float32\") / 255"
   ]
  },
  {
   "cell_type": "code",
<<<<<<< HEAD
   "execution_count": 30,
=======
   "execution_count": 29,
>>>>>>> 454c06687658c38591f7201553dcf08ae7e01c62
   "metadata": {},
   "outputs": [],
   "source": [
    "# Reshape images to include channel dimension (28, 28, 1)\n",
    "X_train = np.expand_dims(X_train, -1)\n",
    "X_test = np.expand_dims(X_test, -1)"
   ]
  },
  {
   "cell_type": "code",
<<<<<<< HEAD
   "execution_count": 31,
=======
   "execution_count": 30,
>>>>>>> 454c06687658c38591f7201553dcf08ae7e01c62
   "metadata": {},
   "outputs": [],
   "source": [
    "# Convert labels to one-hot encoding\n",
    "y_train = keras.utils.to_categorical(y_train, 10)\n",
    "y_test = keras.utils.to_categorical(y_test, 10)"
   ]
  },
  {
   "cell_type": "code",
<<<<<<< HEAD
   "execution_count": 32,
=======
   "execution_count": 31,
>>>>>>> 454c06687658c38591f7201553dcf08ae7e01c62
   "metadata": {},
   "outputs": [
    {
     "name": "stdout",
     "output_type": "stream",
     "text": [
      "Training data shape: (60000, 28, 28, 1)\n",
      "Training labels shape: (60000, 10)\n",
      "Test data shape: (10000, 28, 28, 1)\n",
      "Test labels shape: (10000, 10)\n"
     ]
    }
   ],
   "source": [
    "# Print dataset shape\n",
    "print(\"Training data shape:\", X_train.shape)\n",
    "print(\"Training labels shape:\", y_train.shape)\n",
    "print(\"Test data shape:\", X_test.shape)\n",
    "print(\"Test labels shape:\", y_test.shape)"
   ]
  },
  {
   "cell_type": "code",
<<<<<<< HEAD
   "execution_count": 33,
=======
   "execution_count": 32,
>>>>>>> 454c06687658c38591f7201553dcf08ae7e01c62
   "metadata": {},
   "outputs": [],
   "source": [
    "# Build the CNN model\n",
    "model = keras.Sequential([\n",
    "    # First convolutional block\n",
    "    layers.Conv2D(32, kernel_size=(3, 3), activation=\"relu\", input_shape=(28, 28, 1)),\n",
    "    layers.MaxPooling2D(pool_size=(2, 2)),\n",
    "\n",
    "    # Second convolutional block\n",
    "    layers.Conv2D(64, kernel_size=(3, 3), activation=\"relu\"),\n",
    "    layers.MaxPooling2D(pool_size=(2, 2)),\n",
    "    \n",
    "    # Classifier head\n",
    "    layers.Flatten(),\n",
    "    layers.Dropout(0.5),  # Regularization\n",
    "    layers.Dense(10, activation=\"softmax\")\n",
    "])"
   ]
  },
  {
   "cell_type": "code",
<<<<<<< HEAD
   "execution_count": 34,
=======
   "execution_count": 33,
>>>>>>> 454c06687658c38591f7201553dcf08ae7e01c62
   "metadata": {},
   "outputs": [],
   "source": [
    "# Compile the model\n",
    "model.compile(optimizer=\"adam\",\n",
    "              loss=\"categorical_crossentropy\",\n",
    "              metrics=[\"accuracy\"])"
   ]
  },
  {
   "cell_type": "code",
<<<<<<< HEAD
   "execution_count": 35,
=======
   "execution_count": 34,
>>>>>>> 454c06687658c38591f7201553dcf08ae7e01c62
   "metadata": {},
   "outputs": [
    {
     "name": "stdout",
     "output_type": "stream",
     "text": [
      "Model: \"sequential\"\n",
      "_________________________________________________________________\n",
      " Layer (type)                Output Shape              Param #   \n",
      "=================================================================\n",
      " conv2d (Conv2D)             (None, 26, 26, 32)        320       \n",
      "                                                                 \n",
      " max_pooling2d (MaxPooling2D  (None, 13, 13, 32)       0         \n",
      " )                                                               \n",
      "                                                                 \n",
      " conv2d_1 (Conv2D)           (None, 11, 11, 64)        18496     \n",
      "                                                                 \n",
      " max_pooling2d_1 (MaxPooling  (None, 5, 5, 64)         0         \n",
      " 2D)                                                             \n",
      "                                                                 \n",
      " flatten (Flatten)           (None, 1600)              0         \n",
      "                                                                 \n",
      " dropout (Dropout)           (None, 1600)              0         \n",
      "                                                                 \n",
      " dense (Dense)               (None, 10)                16010     \n",
      "                                                                 \n",
      "=================================================================\n",
      "Total params: 34,826\n",
      "Trainable params: 34,826\n",
      "Non-trainable params: 0\n",
      "_________________________________________________________________\n"
     ]
    }
   ],
   "source": [
    "# Display model architecture\n",
    "model.summary()"
   ]
  },
  {
   "cell_type": "code",
<<<<<<< HEAD
   "execution_count": 36,
=======
   "execution_count": 35,
>>>>>>> 454c06687658c38591f7201553dcf08ae7e01c62
   "metadata": {},
   "outputs": [
    {
     "name": "stdout",
     "output_type": "stream",
     "text": [
      "Epoch 1/15\n",
<<<<<<< HEAD
      "422/422 [==============================] - 22s 51ms/step - loss: 0.3616 - accuracy: 0.8911 - val_loss: 0.0823 - val_accuracy: 0.9765\n",
      "Epoch 2/15\n",
      "422/422 [==============================] - 27s 64ms/step - loss: 0.1127 - accuracy: 0.9653 - val_loss: 0.0598 - val_accuracy: 0.9840\n",
      "Epoch 3/15\n",
      "422/422 [==============================] - 22s 51ms/step - loss: 0.0845 - accuracy: 0.9747 - val_loss: 0.0463 - val_accuracy: 0.9877\n",
      "Epoch 4/15\n",
      "422/422 [==============================] - 22s 52ms/step - loss: 0.0683 - accuracy: 0.9793 - val_loss: 0.0431 - val_accuracy: 0.9888\n",
      "Epoch 5/15\n",
      "422/422 [==============================] - 22s 53ms/step - loss: 0.0621 - accuracy: 0.9807 - val_loss: 0.0397 - val_accuracy: 0.9900\n",
      "Epoch 6/15\n",
      "422/422 [==============================] - 27s 63ms/step - loss: 0.0561 - accuracy: 0.9820 - val_loss: 0.0359 - val_accuracy: 0.9912\n",
      "Epoch 7/15\n",
      "422/422 [==============================] - 25s 59ms/step - loss: 0.0501 - accuracy: 0.9848 - val_loss: 0.0341 - val_accuracy: 0.9908\n",
      "Epoch 8/15\n",
      "422/422 [==============================] - 23s 55ms/step - loss: 0.0479 - accuracy: 0.9848 - val_loss: 0.0317 - val_accuracy: 0.9918\n",
      "Epoch 9/15\n",
      "422/422 [==============================] - 26s 61ms/step - loss: 0.0455 - accuracy: 0.9857 - val_loss: 0.0321 - val_accuracy: 0.9913\n",
      "Epoch 10/15\n",
      "422/422 [==============================] - 18s 42ms/step - loss: 0.0423 - accuracy: 0.9864 - val_loss: 0.0351 - val_accuracy: 0.9905\n",
      "Epoch 11/15\n",
      "422/422 [==============================] - 17s 41ms/step - loss: 0.0388 - accuracy: 0.9879 - val_loss: 0.0310 - val_accuracy: 0.9920\n",
      "Epoch 12/15\n",
      "422/422 [==============================] - 17s 41ms/step - loss: 0.0385 - accuracy: 0.9880 - val_loss: 0.0287 - val_accuracy: 0.9920\n",
      "Epoch 13/15\n",
      "422/422 [==============================] - 18s 42ms/step - loss: 0.0360 - accuracy: 0.9886 - val_loss: 0.0300 - val_accuracy: 0.9923\n",
      "Epoch 14/15\n",
      "422/422 [==============================] - 18s 42ms/step - loss: 0.0348 - accuracy: 0.9887 - val_loss: 0.0319 - val_accuracy: 0.9917\n",
      "Epoch 15/15\n",
      "422/422 [==============================] - 18s 42ms/step - loss: 0.0327 - accuracy: 0.9893 - val_loss: 0.0279 - val_accuracy: 0.9923\n"
=======
      "422/422 [==============================] - 17s 39ms/step - loss: 0.3779 - accuracy: 0.8863 - val_loss: 0.0818 - val_accuracy: 0.9770\n",
      "Epoch 2/15\n",
      "422/422 [==============================] - 16s 39ms/step - loss: 0.1134 - accuracy: 0.9654 - val_loss: 0.0548 - val_accuracy: 0.9852\n",
      "Epoch 3/15\n",
      "422/422 [==============================] - 17s 40ms/step - loss: 0.0836 - accuracy: 0.9749 - val_loss: 0.0459 - val_accuracy: 0.9880\n",
      "Epoch 4/15\n",
      "422/422 [==============================] - 16s 38ms/step - loss: 0.0703 - accuracy: 0.9784 - val_loss: 0.0403 - val_accuracy: 0.9878\n",
      "Epoch 5/15\n",
      "422/422 [==============================] - 17s 40ms/step - loss: 0.0609 - accuracy: 0.9810 - val_loss: 0.0381 - val_accuracy: 0.9892\n",
      "Epoch 6/15\n",
      "422/422 [==============================] - 17s 40ms/step - loss: 0.0561 - accuracy: 0.9819 - val_loss: 0.0369 - val_accuracy: 0.9893\n",
      "Epoch 7/15\n",
      "422/422 [==============================] - 18s 42ms/step - loss: 0.0513 - accuracy: 0.9840 - val_loss: 0.0350 - val_accuracy: 0.9905\n",
      "Epoch 8/15\n",
      "422/422 [==============================] - 16s 37ms/step - loss: 0.0486 - accuracy: 0.9848 - val_loss: 0.0308 - val_accuracy: 0.9913\n",
      "Epoch 9/15\n",
      "422/422 [==============================] - 16s 37ms/step - loss: 0.0442 - accuracy: 0.9862 - val_loss: 0.0304 - val_accuracy: 0.9923\n",
      "Epoch 10/15\n",
      "422/422 [==============================] - 16s 37ms/step - loss: 0.0418 - accuracy: 0.9863 - val_loss: 0.0308 - val_accuracy: 0.9923\n",
      "Epoch 11/15\n",
      "422/422 [==============================] - 15s 36ms/step - loss: 0.0407 - accuracy: 0.9872 - val_loss: 0.0284 - val_accuracy: 0.9923\n",
      "Epoch 12/15\n",
      "422/422 [==============================] - 16s 37ms/step - loss: 0.0378 - accuracy: 0.9880 - val_loss: 0.0303 - val_accuracy: 0.9913\n",
      "Epoch 13/15\n",
      "422/422 [==============================] - 16s 37ms/step - loss: 0.0357 - accuracy: 0.9887 - val_loss: 0.0276 - val_accuracy: 0.9922\n",
      "Epoch 14/15\n",
      "422/422 [==============================] - 16s 37ms/step - loss: 0.0349 - accuracy: 0.9887 - val_loss: 0.0265 - val_accuracy: 0.9928\n",
      "Epoch 15/15\n",
      "422/422 [==============================] - 15s 37ms/step - loss: 0.0332 - accuracy: 0.9894 - val_loss: 0.0250 - val_accuracy: 0.9935\n"
>>>>>>> 454c06687658c38591f7201553dcf08ae7e01c62
     ]
    }
   ],
   "source": [
    "# Train the model\n",
    "batch_size = 128\n",
    "epochs = 15\n",
    "\n",
    "history = model.fit(X_train, y_train,\n",
    "                    batch_size=batch_size,\n",
    "                    epochs=epochs,\n",
    "                    validation_split=0.1)"
   ]
  },
  {
   "cell_type": "code",
<<<<<<< HEAD
   "execution_count": 37,
=======
   "execution_count": 36,
>>>>>>> 454c06687658c38591f7201553dcf08ae7e01c62
   "metadata": {},
   "outputs": [
    {
     "name": "stdout",
     "output_type": "stream",
     "text": [
      "\n",
<<<<<<< HEAD
      "Test accuracy: 0.9916\n"
=======
      "Test accuracy: 0.9915\n"
>>>>>>> 454c06687658c38591f7201553dcf08ae7e01c62
     ]
    }
   ],
   "source": [
    "# Evaluate on test set\n",
    "test_loss, test_acc = model.evaluate(X_test, y_test, verbose=0)\n",
    "print(f\"\\nTest accuracy: {test_acc:.4f}\")\n"
   ]
  },
  {
   "cell_type": "code",
<<<<<<< HEAD
   "execution_count": 38,
=======
   "execution_count": 37,
>>>>>>> 454c06687658c38591f7201553dcf08ae7e01c62
   "metadata": {},
   "outputs": [
    {
     "data": {
<<<<<<< HEAD
      "image/png": "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",
=======
      "image/png": "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",
>>>>>>> 454c06687658c38591f7201553dcf08ae7e01c62
      "text/plain": [
       "<Figure size 1200x400 with 2 Axes>"
      ]
     },
     "metadata": {},
     "output_type": "display_data"
    }
   ],
   "source": [
    "# Plot training history\n",
    "plt.figure(figsize=(12, 4))\n",
    "plt.subplot(1, 2, 1)\n",
    "plt.plot(history.history['accuracy'], label='Training Accuracy')\n",
    "plt.plot(history.history['val_accuracy'], label='Validation Accuracy')\n",
    "plt.title('Training and Validation Accuracy')\n",
    "plt.xlabel('Epoch')\n",
    "plt.ylabel('Accuracy')\n",
    "plt.legend()\n",
    "\n",
    "plt.subplot(1, 2, 2)\n",
    "plt.plot(history.history['loss'], label='Training Loss')\n",
    "plt.plot(history.history['val_loss'], label='Validation Loss')\n",
    "plt.title('Training and Validation Loss')\n",
    "plt.xlabel('Epoch')\n",
    "plt.ylabel('Loss')\n",
    "plt.legend()\n",
    "plt.show()"
   ]
  },
  {
   "cell_type": "code",
<<<<<<< HEAD
   "execution_count": 39,
=======
   "execution_count": 38,
>>>>>>> 454c06687658c38591f7201553dcf08ae7e01c62
   "metadata": {},
   "outputs": [],
   "source": [
    "# Visualize predictions on sample images\n",
    "sample_images = X_test[:5]\n",
    "sample_labels = np.argmax(y_test[:5], axis=1)"
   ]
  },
  {
   "cell_type": "code",
<<<<<<< HEAD
   "execution_count": 40,
=======
   "execution_count": 39,
>>>>>>> 454c06687658c38591f7201553dcf08ae7e01c62
   "metadata": {},
   "outputs": [
    {
     "name": "stdout",
     "output_type": "stream",
     "text": [
<<<<<<< HEAD
      "1/1 [==============================] - 0s 263ms/step\n"
=======
      "1/1 [==============================] - 0s 170ms/step\n"
>>>>>>> 454c06687658c38591f7201553dcf08ae7e01c62
     ]
    }
   ],
   "source": [
    "# Make predictions\n",
    "predictions = model.predict(sample_images)\n",
    "predicted_labels = np.argmax(predictions, axis=1)"
   ]
  },
  {
   "cell_type": "code",
<<<<<<< HEAD
   "execution_count": 41,
=======
   "execution_count": 40,
>>>>>>> 454c06687658c38591f7201553dcf08ae7e01c62
   "metadata": {},
   "outputs": [
    {
     "data": {
      "image/png": "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",
      "text/plain": [
       "<Figure size 1500x300 with 5 Axes>"
      ]
     },
     "metadata": {},
     "output_type": "display_data"
    }
   ],
   "source": [
    "# Display the images with predictions\n",
    "plt.figure(figsize=(15, 3))\n",
    "for i in range(5):\n",
    "    plt.subplot(1, 5, i+1)\n",
    "    plt.imshow(sample_images[i].reshape(28, 28), cmap='gray')\n",
    "    plt.title(f\"True: {sample_labels[i]}\\nPred: {predicted_labels[i]}\")\n",
    "    plt.axis('off')\n",
    "plt.show()"
   ]
  },
  {
   "cell_type": "code",
<<<<<<< HEAD
   "execution_count": 43,
   "metadata": {},
   "outputs": [
    {
     "ename": "NameError",
     "evalue": "name 'your_text_data' is not defined",
     "output_type": "error",
     "traceback": [
      "\u001b[1;31m---------------------------------------------------------------------------\u001b[0m",
      "\u001b[1;31mNameError\u001b[0m                                 Traceback (most recent call last)",
      "Cell \u001b[1;32mIn[43], line 6\u001b[0m\n\u001b[0;32m      4\u001b[0m \u001b[38;5;66;03m# Create and fit your vectorizer (example)\u001b[39;00m\n\u001b[0;32m      5\u001b[0m vectorizer \u001b[38;5;241m=\u001b[39m CountVectorizer()  \u001b[38;5;66;03m# or TfidfVectorizer()\u001b[39;00m\n\u001b[1;32m----> 6\u001b[0m vectorizer\u001b[38;5;241m.\u001b[39mfit(\u001b[43myour_text_data\u001b[49m)  \u001b[38;5;66;03m# Replace with your actual text data\u001b[39;00m\n\u001b[0;32m      8\u001b[0m \u001b[38;5;66;03m# Now you can save both\u001b[39;00m\n\u001b[0;32m      9\u001b[0m joblib\u001b[38;5;241m.\u001b[39mdump(model, \u001b[38;5;124m'\u001b[39m\u001b[38;5;124mclassifier.pkl\u001b[39m\u001b[38;5;124m'\u001b[39m)\n",
      "\u001b[1;31mNameError\u001b[0m: name 'your_text_data' is not defined"
     ]
    }
   ],
   "source": [
    "import joblib\n",
    "from sklearn.feature_extraction.text import CountVectorizer  # or TfidfVectorizer\n",
    "\n",
    "# Create and fit your vectorizer (example)\n",
    "vectorizer = CountVectorizer()  # or TfidfVectorizer()\n",
    "vectorizer.fit(your_text_data)  # Replace with your actual text data\n",
    "\n",
    "# Now you can save both\n",
    "joblib.dump(model, 'classifier.pkl')\n",
    "joblib.dump(vectorizer, 'vectorizer.pkl')\n"
   ]
  },
  {
   "cell_type": "code",
=======
>>>>>>> 454c06687658c38591f7201553dcf08ae7e01c62
   "execution_count": null,
   "metadata": {},
   "outputs": [],
   "source": []
  }
 ],
 "metadata": {
  "kernelspec": {
   "display_name": "Python (tf-env)",
   "language": "python",
   "name": "tf-env"
  },
  "language_info": {
   "codemirror_mode": {
    "name": "ipython",
    "version": 3
   },
   "file_extension": ".py",
   "mimetype": "text/x-python",
   "name": "python",
   "nbconvert_exporter": "python",
   "pygments_lexer": "ipython3",
   "version": "3.10.13"
  }
 },
 "nbformat": 4,
 "nbformat_minor": 4
}
